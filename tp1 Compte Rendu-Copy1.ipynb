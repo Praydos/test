{
 "cells": [
  {
   "cell_type": "code",
   "execution_count": null,
   "id": "48f77510",
   "metadata": {},
   "outputs": [],
   "source": []
  },
  {
   "cell_type": "markdown",
   "id": "96a1fe51",
   "metadata": {},
   "source": [
    "<h1 style=\"text-align:center\" >TP 1 TDM</h1>"
   ]
  },
  {
   "cell_type": "code",
   "execution_count": null,
   "id": "653f2fe5",
   "metadata": {},
   "outputs": [],
   "source": []
  },
  {
   "cell_type": "markdown",
   "id": "74c0cdfd",
   "metadata": {},
   "source": [
    "## importation du bibliotheque"
   ]
  },
  {
   "cell_type": "code",
   "execution_count": 1,
   "id": "8a6f05c2",
   "metadata": {},
   "outputs": [],
   "source": [
    "import numpy as np # pour la manupilation du matrice\n",
    "from PIL import Image # pour la manupilation des images "
   ]
  },
  {
   "cell_type": "code",
   "execution_count": null,
   "id": "3cafaa4b",
   "metadata": {},
   "outputs": [],
   "source": []
  },
  {
   "cell_type": "code",
   "execution_count": null,
   "id": "256e2384",
   "metadata": {},
   "outputs": [],
   "source": []
  },
  {
   "cell_type": "code",
   "execution_count": null,
   "id": "82b6e034",
   "metadata": {},
   "outputs": [],
   "source": []
  },
  {
   "cell_type": "markdown",
   "id": "6c46c937",
   "metadata": {},
   "source": []
  },
  {
   "cell_type": "markdown",
   "id": "9679189b",
   "metadata": {},
   "source": [
    "# EX1: compression par encodage RLE"
   ]
  },
  {
   "cell_type": "markdown",
   "id": "23554816",
   "metadata": {},
   "source": [
    "<p style=\"font-size : 16px;\">RLE \"Run-Length Encoding\". Il s’agit d’un algorithme de compression sans perte simple qui est souvent utilisé pour compresser des données qui contiennent de longues séries de la même valeur </p>"
   ]
  },
  {
   "cell_type": "code",
   "execution_count": null,
   "id": "a2cdbd2e",
   "metadata": {},
   "outputs": [],
   "source": []
  },
  {
   "cell_type": "markdown",
   "id": "ac757c9d",
   "metadata": {},
   "source": [
    "## ces fonctions pour facilite le calculer du occurrence du symbole successive dans les matrices d'images"
   ]
  },
  {
   "cell_type": "markdown",
   "id": "f21f3e9e",
   "metadata": {},
   "source": [
    " <p style=\"font-size : 16px;\"> cette fonction permet de de convertir une matrice a une seule vecteur (ligne a coter de l'autre)</p>"
   ]
  },
  {
   "cell_type": "code",
   "execution_count": 13,
   "id": "678c0db3",
   "metadata": {},
   "outputs": [],
   "source": [
    "def toligne(array) :\n",
    "    return array.ravel();"
   ]
  },
  {
   "cell_type": "markdown",
   "id": "68b1e680",
   "metadata": {},
   "source": [
    " <p style=\"font-size : 16px;\"> cette fonction permet de de convertir une matrice a une seule vecteur (coloune a coter de l'autre)</p>"
   ]
  },
  {
   "cell_type": "code",
   "execution_count": 14,
   "id": "d8a0a08b",
   "metadata": {},
   "outputs": [],
   "source": [
    "def toColoums(array) :\n",
    "    liste=[array[:,i] for i in range(array[0].size)]\n",
    "    return np.array(liste).ravel();"
   ]
  },
  {
   "cell_type": "markdown",
   "id": "bbcd4487",
   "metadata": {},
   "source": [
    " <p style=\"font-size : 16px;\"> cette fonction permet de de convertir une matrice a une seule vecteur par une methode de zigzag</p>"
   ]
  },
  {
   "cell_type": "code",
   "execution_count": 50,
   "id": "4c2e2c43",
   "metadata": {},
   "outputs": [
    {
     "name": "stdout",
     "output_type": "stream",
     "text": [
      "[ 1  2  4  7  5  3 44  6  8  9 66 99]\n"
     ]
    }
   ],
   "source": [
    "\n",
    "def zigzag(input):\n",
    "    h, w = input.shape\n",
    "    output = [0] * (h * w)\n",
    "    i = 0\n",
    "    j = 0\n",
    "    for k in range(h * w):\n",
    "        output[k] = input[i][j]\n",
    "        if (i + j) % 2 == 0:\n",
    "            if j == w - 1:\n",
    "                i += 1\n",
    "            elif i == 0:\n",
    "                j += 1\n",
    "            else:\n",
    "                i -= 1\n",
    "                j += 1\n",
    "        else:\n",
    "            if i == h - 1:\n",
    "                j += 1\n",
    "            elif j == 0:\n",
    "                i += 1\n",
    "            else:\n",
    "                i += 1\n",
    "                j -= 1\n",
    "    return np.array(output);\n",
    "\n",
    "\n",
    "input_matrix = np.array([[1,2,3,44],[4,5,6,66],[7,8,9,99]])\n",
    "output_list = zigzag(input_matrix)\n",
    "\n",
    "print(output_list)\n"
   ]
  },
  {
   "cell_type": "markdown",
   "id": "dc594f0a",
   "metadata": {},
   "source": [
    "autre methode de zigzage"
   ]
  },
  {
   "cell_type": "code",
   "execution_count": 66,
   "id": "0591388a",
   "metadata": {},
   "outputs": [
    {
     "name": "stdout",
     "output_type": "stream",
     "text": [
      "[  1   2   4   3   5   7   6   8 255]\n"
     ]
    }
   ],
   "source": [
    "def zigzag2(input):\n",
    "    h, w = input.shape\n",
    "    size = h + w - 1\n",
    "    output = np.zeros((size,min(size,h)), dtype=input.dtype)\n",
    "    output+=5000\n",
    "    for i in range(h):\n",
    "        for j in range(w):\n",
    "            output[i+j, i] = input[i, j]\n",
    "    \n",
    "    output=output.ravel()\n",
    "    output=np.delete(output,np.where(output == 5000))\n",
    "    return output;\n",
    "\n",
    "# Example usage\n",
    "arr = np.array([[1, 2, 3], [4, 5, 6], [7, 8, 255]])\n",
    "zigzag_arr = zigzag2(arr)\n",
    "print(zigzag_arr)\n"
   ]
  },
  {
   "cell_type": "markdown",
   "id": "f489ccf8",
   "metadata": {},
   "source": [
    "## functions"
   ]
  },
  {
   "cell_type": "code",
   "execution_count": 67,
   "id": "00c0d9a1",
   "metadata": {},
   "outputs": [],
   "source": [
    "def arrayToBinary(array) : #array 1 dim\n",
    "    # convert each element of the array to binary\n",
    "    binary_arr = [np.binary_repr(x, width=8) for x in array]\n",
    "    return np.array(binary_arr);"
   ]
  },
  {
   "cell_type": "code",
   "execution_count": 68,
   "id": "d484bc47",
   "metadata": {},
   "outputs": [
    {
     "data": {
      "text/plain": [
       "array(['00000001', '00000010', '00000100', '00000011', '00000101',\n",
       "       '00000111', '00000110', '00001000', '11111111'], dtype='<U8')"
      ]
     },
     "execution_count": 68,
     "metadata": {},
     "output_type": "execute_result"
    }
   ],
   "source": [
    "arrayToBinary(zigzag_arr)"
   ]
  },
  {
   "cell_type": "code",
   "execution_count": 34,
   "id": "d06ed5bf",
   "metadata": {},
   "outputs": [],
   "source": [
    "def concatinateBinaryArray(binaryArray) :\n",
    "    chr1 = ''\n",
    "    for elem in binaryArray :\n",
    "        #print(elem)\n",
    "        chr1+=elem\n",
    "    return chr1;"
   ]
  },
  {
   "cell_type": "code",
   "execution_count": 107,
   "id": "819c7ad5",
   "metadata": {},
   "outputs": [],
   "source": [
    "def concatinateBinaryArray2(binaryArray) :\n",
    "    chr1 = ''\n",
    "    for elem in binaryArray :\n",
    "        #print(elem)\n",
    "        chr1+=str(elem)\n",
    "    return chr1;"
   ]
  },
  {
   "cell_type": "code",
   "execution_count": 37,
   "id": "e59b2ad9",
   "metadata": {},
   "outputs": [],
   "source": [
    "chr1=concatinateBinaryArray(arrayToBinary(zigzag_arr))"
   ]
  },
  {
   "cell_type": "markdown",
   "id": "1edff1a5",
   "metadata": {},
   "source": [
    "### reverse function"
   ]
  },
  {
   "cell_type": "markdown",
   "id": "66bc1b0c",
   "metadata": {},
   "source": [
    "<p style=\"font-size : 16px;\">cette fonction convertir une chaine binaire a une liste du chaine binaire   </p>"
   ]
  },
  {
   "cell_type": "code",
   "execution_count": 89,
   "id": "ea2f3ac5",
   "metadata": {},
   "outputs": [],
   "source": [
    "def binaryStrToArray(chaine) :\n",
    "    liste=[chaine[i:i+8] for i in range(0,len(chaine),8) ]\n",
    "    return np.array(liste);"
   ]
  },
  {
   "cell_type": "markdown",
   "id": "b4f270be",
   "metadata": {},
   "source": [
    "<p style=\"font-size : 16px;\">la chaine binaire   </p>"
   ]
  },
  {
   "cell_type": "code",
   "execution_count": 76,
   "id": "c1fe9096",
   "metadata": {},
   "outputs": [
    {
     "data": {
      "text/plain": [
       "'000000010000001000000100000000110000010100000111000001100000100000001001'"
      ]
     },
     "execution_count": 76,
     "metadata": {},
     "output_type": "execute_result"
    }
   ],
   "source": [
    "chr1"
   ]
  },
  {
   "cell_type": "code",
   "execution_count": 44,
   "id": "d4c71734",
   "metadata": {},
   "outputs": [
    {
     "data": {
      "text/plain": [
       "array(['00000001', '00000010', '00000100', '00000011', '00000101',\n",
       "       '00000111', '00000110', '00001000', '00001001'], dtype='<U8')"
      ]
     },
     "execution_count": 44,
     "metadata": {},
     "output_type": "execute_result"
    }
   ],
   "source": [
    "binaryStrToArray(chr1)"
   ]
  },
  {
   "cell_type": "markdown",
   "id": "51fdc731",
   "metadata": {},
   "source": [
    "<p style=\"font-size : 16px;\">cette fonction permet de convertir une liste du chaine binaire au une liste du nbr dicimal </p>"
   ]
  },
  {
   "cell_type": "code",
   "execution_count": 93,
   "id": "f064e5f1",
   "metadata": {},
   "outputs": [],
   "source": [
    "def binaryToDicimal(binaryList) :\n",
    "    decimal_array = [int(binary,2) for binary in binaryList]\n",
    "    return np.array(decimal_array);"
   ]
  },
  {
   "cell_type": "code",
   "execution_count": 75,
   "id": "c80fa0e8",
   "metadata": {},
   "outputs": [
    {
     "data": {
      "text/plain": [
       "[1, 2, 4, 3, 5, 7, 6, 8, 9]"
      ]
     },
     "execution_count": 75,
     "metadata": {},
     "output_type": "execute_result"
    }
   ],
   "source": [
    "binaryToDicimal(binaryStrToArray(chr1))"
   ]
  },
  {
   "cell_type": "markdown",
   "id": "7ca007ea",
   "metadata": {},
   "source": [
    "<p style=\"font-size : 16px;\">cette fonction calcule l'enverse du vecteur zigzager  </p>"
   ]
  },
  {
   "cell_type": "code",
   "execution_count": 45,
   "id": "a2aac29a",
   "metadata": {},
   "outputs": [],
   "source": [
    "def reverse_zigzag(zigzag, h, w):\n",
    "    output = np.zeros((h, w), dtype=zigzag.dtype)\n",
    "    i = 0\n",
    "    j = 0\n",
    "    for k in range(len(zigzag)):\n",
    "        output[i][j] = zigzag[k]\n",
    "        if (i + j) % 2 == 0:\n",
    "            if j == w - 1:\n",
    "                i += 1\n",
    "            elif i == 0:\n",
    "                j += 1\n",
    "            else:\n",
    "                i -= 1\n",
    "                j += 1\n",
    "        else:\n",
    "            if i == h - 1:\n",
    "                j += 1\n",
    "            elif j == 0:\n",
    "                i += 1\n",
    "            else:\n",
    "                i += 1\n",
    "                j -= 1\n",
    "    return output\n"
   ]
  },
  {
   "cell_type": "code",
   "execution_count": 51,
   "id": "51b5c456",
   "metadata": {},
   "outputs": [
    {
     "data": {
      "text/plain": [
       "array([[ 1,  2,  3, 44],\n",
       "       [ 4,  5,  6, 66],\n",
       "       [ 7,  8,  9, 99]])"
      ]
     },
     "execution_count": 51,
     "metadata": {},
     "output_type": "execute_result"
    }
   ],
   "source": [
    "reverse_zigzag(output_list,3,4)"
   ]
  },
  {
   "cell_type": "code",
   "execution_count": null,
   "id": "6cd891ac",
   "metadata": {},
   "outputs": [],
   "source": []
  },
  {
   "cell_type": "code",
   "execution_count": 69,
   "id": "8486aa6d",
   "metadata": {},
   "outputs": [],
   "source": []
  },
  {
   "cell_type": "markdown",
   "id": "05df15ad",
   "metadata": {},
   "source": [
    "## Question 1 : calcule du frequence d'occurrence"
   ]
  },
  {
   "cell_type": "code",
   "execution_count": 2,
   "id": "92a36f07",
   "metadata": {},
   "outputs": [],
   "source": [
    "phrase=\"aaaaaabbbeeeee\" #    <p style=\"font-size : 16px;\"> </p>"
   ]
  },
  {
   "cell_type": "markdown",
   "id": "7d6df14a",
   "metadata": {},
   "source": [
    "<p style=\"font-size : 16px;\"> cette fonction retourne une liste des tuples(symbole,occurance) pour chaque symbole </p>"
   ]
  },
  {
   "cell_type": "code",
   "execution_count": 3,
   "id": "eb4a4cfa",
   "metadata": {},
   "outputs": [],
   "source": [
    "def freqOccurance(phrase) :\n",
    "    count =1\n",
    "    liste=[]\n",
    "    for i in range(len(phrase)) :\n",
    "        if i != len(phrase)-1:\n",
    "            if phrase[i]==phrase[i+1] :\n",
    "                count+=1\n",
    "            else :\n",
    "                tupl=phrase[i],count\n",
    "                liste.append(tupl)\n",
    "                count =1\n",
    "    tupl=phrase[i],count\n",
    "    liste.append(tupl)\n",
    "    return liste;"
   ]
  },
  {
   "cell_type": "code",
   "execution_count": 4,
   "id": "37f1e626",
   "metadata": {},
   "outputs": [
    {
     "data": {
      "text/plain": [
       "[('a', 6), ('b', 3), ('e', 5)]"
      ]
     },
     "execution_count": 4,
     "metadata": {},
     "output_type": "execute_result"
    }
   ],
   "source": [
    "freqOccurance(phrase)"
   ]
  },
  {
   "cell_type": "markdown",
   "id": "4aeb4b91",
   "metadata": {},
   "source": [
    "## Question 2 : Evalue le code RLE"
   ]
  },
  {
   "cell_type": "markdown",
   "id": "12e9d356",
   "metadata": {},
   "source": [
    "<p style=\"font-size : 16px;\"> Cacule du gain </p>"
   ]
  },
  {
   "cell_type": "code",
   "execution_count": 5,
   "id": "8ad46c5c",
   "metadata": {},
   "outputs": [],
   "source": [
    "def evalueRLE(phrase) :\n",
    "    lenCodageRLE=len(freqOccurance(phrase))*2\n",
    "    lenData=len(phrase)\n",
    "    return (lenData-lenCodageRLE)/lenData;"
   ]
  },
  {
   "cell_type": "code",
   "execution_count": 7,
   "id": "87a6346c",
   "metadata": {},
   "outputs": [
    {
     "data": {
      "text/plain": [
       "0.5714285714285714"
      ]
     },
     "execution_count": 7,
     "metadata": {},
     "output_type": "execute_result"
    }
   ],
   "source": [
    "evalueRLE(phrase)"
   ]
  },
  {
   "cell_type": "markdown",
   "id": "21272bc7",
   "metadata": {},
   "source": [
    "## Question 3 : taux de compression"
   ]
  },
  {
   "cell_type": "code",
   "execution_count": 9,
   "id": "153bc0f1",
   "metadata": {},
   "outputs": [],
   "source": [
    "def taux(data) :\n",
    "    lenCodageRLE=len(freqOccurance(data))*2\n",
    "    lenData=len(data)\n",
    "    return lenCodageRLE/lenData;"
   ]
  },
  {
   "cell_type": "code",
   "execution_count": 10,
   "id": "1ccc2d23",
   "metadata": {},
   "outputs": [
    {
     "data": {
      "text/plain": [
       "0.42857142857142855"
      ]
     },
     "execution_count": 10,
     "metadata": {},
     "output_type": "execute_result"
    }
   ],
   "source": [
    "taux(phrase)"
   ]
  },
  {
   "cell_type": "markdown",
   "id": "4c68a219",
   "metadata": {},
   "source": [
    "## Question 4  : Decodage"
   ]
  },
  {
   "cell_type": "code",
   "execution_count": 11,
   "id": "854fec32",
   "metadata": {},
   "outputs": [],
   "source": [
    "def decodage(codageRle):\n",
    "    phrs=\"\"\n",
    "    for tupl in codageRle:\n",
    "        for i in range(tupl[1]) :\n",
    "            phrs+=tupl[0]\n",
    "    return phrs;"
   ]
  },
  {
   "cell_type": "code",
   "execution_count": 12,
   "id": "539d5a34",
   "metadata": {},
   "outputs": [
    {
     "data": {
      "text/plain": [
       "'aaaaaabbbeeeee'"
      ]
     },
     "execution_count": 12,
     "metadata": {},
     "output_type": "execute_result"
    }
   ],
   "source": [
    "decodage(freqOccurance(phrase))"
   ]
  },
  {
   "cell_type": "code",
   "execution_count": null,
   "id": "e4235506",
   "metadata": {},
   "outputs": [],
   "source": []
  },
  {
   "cell_type": "code",
   "execution_count": null,
   "id": "208707fc",
   "metadata": {},
   "outputs": [],
   "source": []
  },
  {
   "cell_type": "markdown",
   "id": "4f7e1212",
   "metadata": {},
   "source": [
    "# Application du ex1 "
   ]
  },
  {
   "cell_type": "code",
   "execution_count": 78,
   "id": "b5692533",
   "metadata": {},
   "outputs": [],
   "source": [
    "zero = np.zeros(11,dtype='int')\n",
    "one = np.ones(11,dtype='int')\n",
    "im = np.array([one,one,one,zero,zero,zero,zero,one,one,one,one,zero,zero,one,one])"
   ]
  },
  {
   "cell_type": "code",
   "execution_count": 79,
   "id": "8cd04cd3",
   "metadata": {},
   "outputs": [
    {
     "data": {
      "text/plain": [
       "array([[1, 1, 1, 1, 1, 1, 1, 1, 1, 1, 1],\n",
       "       [1, 1, 1, 1, 1, 1, 1, 1, 1, 1, 1],\n",
       "       [1, 1, 1, 1, 1, 1, 1, 1, 1, 1, 1],\n",
       "       [0, 0, 0, 0, 0, 0, 0, 0, 0, 0, 0],\n",
       "       [0, 0, 0, 0, 0, 0, 0, 0, 0, 0, 0],\n",
       "       [0, 0, 0, 0, 0, 0, 0, 0, 0, 0, 0],\n",
       "       [0, 0, 0, 0, 0, 0, 0, 0, 0, 0, 0],\n",
       "       [1, 1, 1, 1, 1, 1, 1, 1, 1, 1, 1],\n",
       "       [1, 1, 1, 1, 1, 1, 1, 1, 1, 1, 1],\n",
       "       [1, 1, 1, 1, 1, 1, 1, 1, 1, 1, 1],\n",
       "       [1, 1, 1, 1, 1, 1, 1, 1, 1, 1, 1],\n",
       "       [0, 0, 0, 0, 0, 0, 0, 0, 0, 0, 0],\n",
       "       [0, 0, 0, 0, 0, 0, 0, 0, 0, 0, 0],\n",
       "       [1, 1, 1, 1, 1, 1, 1, 1, 1, 1, 1],\n",
       "       [1, 1, 1, 1, 1, 1, 1, 1, 1, 1, 1]])"
      ]
     },
     "execution_count": 79,
     "metadata": {},
     "output_type": "execute_result"
    }
   ],
   "source": [
    "im"
   ]
  },
  {
   "cell_type": "markdown",
   "id": "460d9ea6",
   "metadata": {},
   "source": [
    "metter la matrice a une seule veceur"
   ]
  },
  {
   "cell_type": "code",
   "execution_count": 81,
   "id": "0a05f3bb",
   "metadata": {},
   "outputs": [
    {
     "data": {
      "text/plain": [
       "array([1, 1, 1, 1, 1, 1, 1, 1, 1, 1, 1, 1, 1, 1, 1, 1, 1, 1, 1, 1, 1, 1,\n",
       "       1, 1, 1, 1, 1, 1, 1, 1, 1, 1, 1, 0, 0, 0, 0, 0, 0, 0, 0, 0, 0, 0,\n",
       "       0, 0, 0, 0, 0, 0, 0, 0, 0, 0, 0, 0, 0, 0, 0, 0, 0, 0, 0, 0, 0, 0,\n",
       "       0, 0, 0, 0, 0, 0, 0, 0, 0, 0, 0, 1, 1, 1, 1, 1, 1, 1, 1, 1, 1, 1,\n",
       "       1, 1, 1, 1, 1, 1, 1, 1, 1, 1, 1, 1, 1, 1, 1, 1, 1, 1, 1, 1, 1, 1,\n",
       "       1, 1, 1, 1, 1, 1, 1, 1, 1, 1, 1, 0, 0, 0, 0, 0, 0, 0, 0, 0, 0, 0,\n",
       "       0, 0, 0, 0, 0, 0, 0, 0, 0, 0, 0, 1, 1, 1, 1, 1, 1, 1, 1, 1, 1, 1,\n",
       "       1, 1, 1, 1, 1, 1, 1, 1, 1, 1, 1])"
      ]
     },
     "execution_count": 81,
     "metadata": {},
     "output_type": "execute_result"
    }
   ],
   "source": [
    "vecteur = toligne(im)\n",
    "vecteur"
   ]
  },
  {
   "cell_type": "code",
   "execution_count": 116,
   "id": "48363148",
   "metadata": {},
   "outputs": [
    {
     "data": {
      "text/plain": [
       "'else :\\n    binaryList=concatinateBinaryArray2(vecteur)'"
      ]
     },
     "execution_count": 116,
     "metadata": {},
     "output_type": "execute_result"
    }
   ],
   "source": [
    "\"\"\"if np.max(vecteur) >1 :\"\"\"\n",
    "binaryList=arrayToBinary(vecteur)\n",
    "    \n",
    "\"\"\"else :\n",
    "    binaryList=concatinateBinaryArray2(vecteur)\"\"\""
   ]
  },
  {
   "cell_type": "code",
   "execution_count": 117,
   "id": "5ebd9c12",
   "metadata": {},
   "outputs": [],
   "source": [
    "chaineBinary=concatinateBinaryArray(binaryList)"
   ]
  },
  {
   "cell_type": "code",
   "execution_count": 118,
   "id": "d1099466",
   "metadata": {},
   "outputs": [],
   "source": [
    "listeRLE=freqOccurance(chaineBinary)"
   ]
  },
  {
   "cell_type": "code",
   "execution_count": 119,
   "id": "cf5bb106",
   "metadata": {},
   "outputs": [
    {
     "data": {
      "text/plain": [
       "0.7"
      ]
     },
     "execution_count": 119,
     "metadata": {},
     "output_type": "execute_result"
    }
   ],
   "source": [
    "evalueRLE(chaineBinary)"
   ]
  },
  {
   "cell_type": "code",
   "execution_count": 120,
   "id": "dcf2e54f",
   "metadata": {},
   "outputs": [
    {
     "data": {
      "text/plain": [
       "0.3"
      ]
     },
     "execution_count": 120,
     "metadata": {},
     "output_type": "execute_result"
    }
   ],
   "source": [
    "taux(chaineBinary)"
   ]
  },
  {
   "cell_type": "code",
   "execution_count": 121,
   "id": "58130696",
   "metadata": {},
   "outputs": [],
   "source": [
    "decodeRLE=decodage(listeRLE)"
   ]
  },
  {
   "cell_type": "code",
   "execution_count": 122,
   "id": "102f3ace",
   "metadata": {},
   "outputs": [],
   "source": [
    "convertedBinaryList=binaryStrToArray(decodeRLE)"
   ]
  },
  {
   "cell_type": "code",
   "execution_count": 123,
   "id": "cdb745ce",
   "metadata": {},
   "outputs": [
    {
     "data": {
      "text/plain": [
       "array([1, 1, 1, 1, 1, 1, 1, 1, 1, 1, 1, 1, 1, 1, 1, 1, 1, 1, 1, 1, 1, 1,\n",
       "       1, 1, 1, 1, 1, 1, 1, 1, 1, 1, 1, 0, 0, 0, 0, 0, 0, 0, 0, 0, 0, 0,\n",
       "       0, 0, 0, 0, 0, 0, 0, 0, 0, 0, 0, 0, 0, 0, 0, 0, 0, 0, 0, 0, 0, 0,\n",
       "       0, 0, 0, 0, 0, 0, 0, 0, 0, 0, 0, 1, 1, 1, 1, 1, 1, 1, 1, 1, 1, 1,\n",
       "       1, 1, 1, 1, 1, 1, 1, 1, 1, 1, 1, 1, 1, 1, 1, 1, 1, 1, 1, 1, 1, 1,\n",
       "       1, 1, 1, 1, 1, 1, 1, 1, 1, 1, 1, 0, 0, 0, 0, 0, 0, 0, 0, 0, 0, 0,\n",
       "       0, 0, 0, 0, 0, 0, 0, 0, 0, 0, 0, 1, 1, 1, 1, 1, 1, 1, 1, 1, 1, 1,\n",
       "       1, 1, 1, 1, 1, 1, 1, 1, 1, 1, 1])"
      ]
     },
     "execution_count": 123,
     "metadata": {},
     "output_type": "execute_result"
    }
   ],
   "source": [
    "binaryToDicimal(convertedBinaryList)"
   ]
  },
  {
   "cell_type": "code",
   "execution_count": null,
   "id": "d461d1ff",
   "metadata": {},
   "outputs": [],
   "source": []
  }
 ],
 "metadata": {
  "kernelspec": {
   "display_name": "Python 3 (ipykernel)",
   "language": "python",
   "name": "python3"
  },
  "language_info": {
   "codemirror_mode": {
    "name": "ipython",
    "version": 3
   },
   "file_extension": ".py",
   "mimetype": "text/x-python",
   "name": "python",
   "nbconvert_exporter": "python",
   "pygments_lexer": "ipython3",
   "version": "3.9.12"
  }
 },
 "nbformat": 4,
 "nbformat_minor": 5
}
